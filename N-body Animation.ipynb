{
 "cells": [
  {
   "cell_type": "markdown",
   "id": "finished-columbus",
   "metadata": {},
   "source": [
    "# N-body animation\n",
    "\n",
    "This notebook loads the position data from the accompanying simulation notebook and allows for 2D or 3D plotting.\n",
    "\n",
    "Contents:\n",
    "\n",
    "[2D animation](#2d)\n",
    "\n",
    "[3D animation](#3d)"
   ]
  },
  {
   "cell_type": "code",
   "execution_count": null,
   "id": "unsigned-gentleman",
   "metadata": {},
   "outputs": [],
   "source": [
    "import csv\n",
    "import numpy as np\n",
    "import matplotlib.pyplot as plt\n",
    "from matplotlib.animation import FuncAnimation\n",
    "from mpl_toolkits.mplot3d import Axes3D\n",
    "from IPython import display\n",
    "%matplotlib notebook\n",
    "\n",
    "def csv_to_list_of_lists(datafile):\n",
    "    '''This function takes in a csv file and loads it into a list of lists'''\n",
    "    #datafile is a csv file where each column is the x, y, and z coordinates of each of the bodies; [1x,1y,1z,2x,2y,2z,...]\n",
    "    f = open(datafile, 'r')\n",
    "    read = csv.reader(f, delimiter=',')\n",
    "    n_bodies_data = list(zip(*read))\n",
    "    n_bodies_data = [list(map(float, sublist)) for sublist in n_bodies_data]\n",
    "    return n_bodies_data\n",
    "\n",
    "def csv_to_list_of_lists_xy(datafile):\n",
    "    n = csv_to_list_of_lists(datafile)\n",
    "    del n[2::3]\n",
    "    return n\n",
    "\n",
    "#Calculate how many lines in the csv file, which is to say, number of time steps of the simulation\n",
    "f = open('positions.csv','r')\n",
    "read = csv.reader(f, delimiter=',')\n",
    "counter = 0\n",
    "for line in read:\n",
    "    counter += 1\n",
    "print(counter)"
   ]
  },
  {
   "cell_type": "markdown",
   "id": "green-impossible",
   "metadata": {},
   "source": [
    "## 2D Plotting <a id='2d'></a>"
   ]
  },
  {
   "cell_type": "code",
   "execution_count": null,
   "id": "textile-trademark",
   "metadata": {},
   "outputs": [],
   "source": [
    "%matplotlib notebook\n",
    "n_bodies_data = csv_to_list_of_lists_xy('positions.csv')\n",
    "\n",
    "fig = plt.figure()\n",
    "plt.style.use('seaborn')\n",
    "x_lists, y_lists = n_bodies_data[::2], n_bodies_data[1::2]\n",
    "n = len(x_lists)\n",
    "x_low, x_high = min([min(x_lists[i]) for i in range(n)]), max([max(x_lists[i]) for i in range(n)])\n",
    "y_low, y_high = min([min(y_lists[i]) for i in range(n)]), max([max(y_lists[i]) for i in range(n)])\n",
    "x_margin, y_margin = (x_high-x_low)*0.05, (y_high-y_low)*0.05\n",
    "xlim=(x_low-x_margin, x_high+x_margin)\n",
    "ylim=(y_low-y_margin, y_high+y_margin)\n",
    "ax = plt.axes(xlim=xlim, ylim=ylim)\n",
    "for i in range(n):\n",
    "    ax.plot(x_lists[i],y_lists[i],lw=0.5)\n",
    "\n",
    "lines = []\n",
    "for i in range(n):\n",
    "    line, = ax.plot([], [], 'o', ms=6)\n",
    "    lines.append(line,)\n",
    "    \n",
    "def animate(i):\n",
    "    for j in range(n):\n",
    "        lines[j].set_data(x_lists[j][i],y_lists[j][i])\n",
    "    return lines\n",
    "\n",
    "anim = FuncAnimation(fig, animate, frames=8000, interval=3, blit=True)  \n",
    "\n",
    "plt.show()"
   ]
  },
  {
   "cell_type": "markdown",
   "id": "frank-sending",
   "metadata": {},
   "source": [
    "## 3D Plotting <a id='3d'></a>"
   ]
  },
  {
   "cell_type": "code",
   "execution_count": null,
   "id": "dependent-penalty",
   "metadata": {
    "scrolled": false
   },
   "outputs": [],
   "source": [
    "%matplotlib notebook\n",
    "n_bodies_data = csv_to_list_of_lists('positions.csv')\n",
    "\n",
    "x_lists, y_lists, z_lists = n_bodies_data[::3], n_bodies_data[1::3], n_bodies_data[2::3]\n",
    "n = len(x_lists)\n",
    "x_low, x_high = min([min(x_lists[i]) for i in range(n)]), max([max(x_lists[i]) for i in range(n)])\n",
    "y_low, y_high = min([min(y_lists[i]) for i in range(n)]), max([max(y_lists[i]) for i in range(n)])\n",
    "z_low, z_high = min([min(z_lists[i]) for i in range(n)]), max([max(z_lists[i]) for i in range(n)])\n",
    "xlim=(x_low-abs(x_high*0.01), x_high+abs(x_high*0.01))\n",
    "ylim=(y_low-abs(y_high*0.01), y_high+abs(y_high*0.01))\n",
    "zlim=(z_low-abs(z_high*0.01), z_high+abs(z_high*0.01))\n",
    "\n",
    "fig = plt.figure(figsize=(6, 4), dpi=200)\n",
    "ax = fig.add_subplot(projection='3d')\n",
    "\n",
    "ax.set_xlim3d(xlim)\n",
    "ax.set_xlabel('X (m)') \n",
    "\n",
    "ax.set_ylim3d(ylim)\n",
    "ax.set_ylabel('Y (m)')\n",
    "\n",
    "ax.set_zlim3d(zlim)\n",
    "ax.set_zlabel('Z (m)')\n",
    "\n",
    "for i in range(n):\n",
    "    ax.plot(x_lists[i], y_lists[i], z_lists[i], lw=1)\n",
    "\n",
    "lines = []\n",
    "for i in range(n):\n",
    "    line, = ax.plot([], [], [], 'o', ms=5)\n",
    "    lines.append(line,)\n",
    "\n",
    "def animate(i):\n",
    "    for j in range(n):\n",
    "        lines[j].set_data(np.array(x_lists[j][i]),np.array(y_lists[j][i]))\n",
    "        lines[j].set_3d_properties(np.array(z_lists[j][i]))\n",
    "    return lines\n",
    "\n",
    "#counter in frames arg is from prior cell; only parameter to change is how many time steps to skip between frames\n",
    "anim = FuncAnimation(fig, animate, frames=list(range(0,counter,10)), interval=50, blit=True)\n",
    "\n",
    "video = anim.to_html5_video()\n",
    "html = display.HTML(video)\n",
    "display.display(html)\n",
    "\n",
    "plt.show()\n",
    "\n",
    "#below is an alternative way to save the mp4 file generated above\n",
    "anim.save('solarsystem.mp4', fps=30, extra_args=['-vcodec', 'libx264'])"
   ]
  },
  {
   "cell_type": "code",
   "execution_count": null,
   "id": "moral-source",
   "metadata": {},
   "outputs": [],
   "source": [
    "'''\n",
    "Sources:\n",
    "\n",
    "3D Animation — Matplotlib 2.1.2 Documentation\n",
    "https://matplotlib.org/2.1.2/gallery/animation/simple_3danim.html\n",
    "\n",
    "Matplotlib Animation Tutorial\n",
    "https://jakevdp.github.io/blog/2012/08/18/matplotlib-animation-tutorial/\n",
    "'''"
   ]
  }
 ],
 "metadata": {
  "kernelspec": {
   "display_name": "Python 3",
   "language": "python",
   "name": "python3"
  },
  "language_info": {
   "codemirror_mode": {
    "name": "ipython",
    "version": 3
   },
   "file_extension": ".py",
   "mimetype": "text/x-python",
   "name": "python",
   "nbconvert_exporter": "python",
   "pygments_lexer": "ipython3",
   "version": "3.7.4"
  }
 },
 "nbformat": 4,
 "nbformat_minor": 5
}
